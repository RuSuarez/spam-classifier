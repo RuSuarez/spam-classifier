{
 "cells": [
  {
   "cell_type": "markdown",
   "id": "4a87203b-5a2f-4390-ae5f-a1c6b247119b",
   "metadata": {},
   "source": [
    "Data source:\n",
    "https://www.kaggle.com/datasets/venky73/spam-mails-dataset"
   ]
  },
  {
   "cell_type": "code",
   "execution_count": 1,
   "id": "bc54c15e-1cc0-4067-9f19-ccbc37f67bdb",
   "metadata": {},
   "outputs": [],
   "source": [
    "import nltk\n",
    "import pandas as pd\n",
    "import random\n",
    "import string\n",
    "import seaborn as sns\n",
    "import matplotlib.pyplot as plt\n",
    "\n",
    "from sklearn.metrics import confusion_matrix, accuracy_score, precision_score, recall_score, f1_score\n",
    "from sklearn.feature_extraction.text import TfidfVectorizer, CountVectorizer\n",
    "from sklearn.naive_bayes import MultinomialNB\n",
    "from sklearn.pipeline import make_pipeline\n",
    "from sklearn.model_selection import train_test_split\n",
    "from sklearn.linear_model import LogisticRegression\n",
    "from sklearn.ensemble import RandomForestClassifier, GradientBoostingClassifier\n",
    "from sklearn.svm import SVC\n",
    "from xgboost import XGBClassifier\n",
    "from catboost import CatBoostClassifier\n",
    "\n",
    "from nltk.corpus import stopwords"
   ]
  },
  {
   "cell_type": "code",
   "execution_count": 2,
   "id": "7f93509c-855d-47a4-897f-05da270c853f",
   "metadata": {},
   "outputs": [
    {
     "data": {
      "text/html": [
       "<div>\n",
       "<style scoped>\n",
       "    .dataframe tbody tr th:only-of-type {\n",
       "        vertical-align: middle;\n",
       "    }\n",
       "\n",
       "    .dataframe tbody tr th {\n",
       "        vertical-align: top;\n",
       "    }\n",
       "\n",
       "    .dataframe thead th {\n",
       "        text-align: right;\n",
       "    }\n",
       "</style>\n",
       "<table border=\"1\" class=\"dataframe\">\n",
       "  <thead>\n",
       "    <tr style=\"text-align: right;\">\n",
       "      <th></th>\n",
       "      <th>Unnamed: 0</th>\n",
       "      <th>Body</th>\n",
       "      <th>Label</th>\n",
       "    </tr>\n",
       "  </thead>\n",
       "  <tbody>\n",
       "    <tr>\n",
       "      <th>0</th>\n",
       "      <td>0</td>\n",
       "      <td>\\nSave up to 70% on Life Insurance.\\nWhy Spend...</td>\n",
       "      <td>1</td>\n",
       "    </tr>\n",
       "    <tr>\n",
       "      <th>1</th>\n",
       "      <td>1</td>\n",
       "      <td>1) Fight The Risk of Cancer!\\nhttp://www.adcli...</td>\n",
       "      <td>1</td>\n",
       "    </tr>\n",
       "    <tr>\n",
       "      <th>2</th>\n",
       "      <td>2</td>\n",
       "      <td>1) Fight The Risk of Cancer!\\nhttp://www.adcli...</td>\n",
       "      <td>1</td>\n",
       "    </tr>\n",
       "    <tr>\n",
       "      <th>3</th>\n",
       "      <td>3</td>\n",
       "      <td>##############################################...</td>\n",
       "      <td>1</td>\n",
       "    </tr>\n",
       "    <tr>\n",
       "      <th>4</th>\n",
       "      <td>4</td>\n",
       "      <td>I thought you might like these:\\n1) Slim Down ...</td>\n",
       "      <td>1</td>\n",
       "    </tr>\n",
       "  </tbody>\n",
       "</table>\n",
       "</div>"
      ],
      "text/plain": [
       "   Unnamed: 0                                               Body  Label\n",
       "0           0  \\nSave up to 70% on Life Insurance.\\nWhy Spend...      1\n",
       "1           1  1) Fight The Risk of Cancer!\\nhttp://www.adcli...      1\n",
       "2           2  1) Fight The Risk of Cancer!\\nhttp://www.adcli...      1\n",
       "3           3  ##############################################...      1\n",
       "4           4  I thought you might like these:\\n1) Slim Down ...      1"
      ]
     },
     "execution_count": 2,
     "metadata": {},
     "output_type": "execute_result"
    }
   ],
   "source": [
    "# Create lists of spam and ham emails\n",
    "df = pd.read_csv('completeSpamAssassin.csv')\n",
    "df.head()"
   ]
  },
  {
   "cell_type": "code",
   "execution_count": 3,
   "id": "57b789b0-1e35-4dee-af02-509a83d46ba5",
   "metadata": {},
   "outputs": [
    {
     "data": {
      "text/plain": [
       "(6046, 3)"
      ]
     },
     "execution_count": 3,
     "metadata": {},
     "output_type": "execute_result"
    }
   ],
   "source": [
    "df.shape"
   ]
  },
  {
   "cell_type": "code",
   "execution_count": 4,
   "id": "1821ea25-1a7e-49c2-a900-4dc12314ab50",
   "metadata": {},
   "outputs": [
    {
     "data": {
      "text/plain": [
       "Unnamed: 0    False\n",
       "Body           True\n",
       "Label         False\n",
       "dtype: bool"
      ]
     },
     "execution_count": 4,
     "metadata": {},
     "output_type": "execute_result"
    }
   ],
   "source": [
    "df.isna().any()"
   ]
  },
  {
   "cell_type": "code",
   "execution_count": 5,
   "id": "34a5ad23-e67f-456f-957d-fea8dfe79573",
   "metadata": {},
   "outputs": [],
   "source": [
    "df = df.dropna()[['Body', 'Label']].reset_index(drop=True)"
   ]
  },
  {
   "cell_type": "code",
   "execution_count": 6,
   "id": "008fab5f-256b-498b-80bd-c7677fe039d4",
   "metadata": {},
   "outputs": [],
   "source": [
    "# function that cleans the Body column removing unnecesary noise\n",
    "def text_preprocessing(text):\n",
    "    # convert  text to lowecase\n",
    "    text = text.lower()\n",
    "    \n",
    "    # creating list of words in email\n",
    "    text = nltk.word_tokenize(text)\n",
    "    \n",
    "    # removing special charecters\n",
    "    y = []\n",
    "    for i in text:\n",
    "        if i.isalnum():\n",
    "            y.append(i)\n",
    "    \n",
    "    # copying processed text to text and clearing y to store next steps output\n",
    "    text = y[:]\n",
    "    y.clear()\n",
    "    \n",
    "    # removing stopwords and punctuation marks\n",
    "    for i in text:\n",
    "        if i not in stopwords.words('english') and i not in string.punctuation:\n",
    "            y.append(i)\n",
    "            \n",
    "    text = y[:]\n",
    "        \n",
    "    return \" \".join(y)"
   ]
  },
  {
   "cell_type": "code",
   "execution_count": 7,
   "id": "c90897dc-c698-4749-b568-047635b8949f",
   "metadata": {},
   "outputs": [],
   "source": [
    "df['Body'] = df['Body'].apply(text_preprocessing)"
   ]
  },
  {
   "cell_type": "code",
   "execution_count": 8,
   "id": "5e861e7f-dbda-4890-922b-acccf36039f6",
   "metadata": {},
   "outputs": [
    {
     "data": {
      "text/html": [
       "<div>\n",
       "<style scoped>\n",
       "    .dataframe tbody tr th:only-of-type {\n",
       "        vertical-align: middle;\n",
       "    }\n",
       "\n",
       "    .dataframe tbody tr th {\n",
       "        vertical-align: top;\n",
       "    }\n",
       "\n",
       "    .dataframe thead th {\n",
       "        text-align: right;\n",
       "    }\n",
       "</style>\n",
       "<table border=\"1\" class=\"dataframe\">\n",
       "  <thead>\n",
       "    <tr style=\"text-align: right;\">\n",
       "      <th></th>\n",
       "      <th>Body</th>\n",
       "      <th>Label</th>\n",
       "    </tr>\n",
       "  </thead>\n",
       "  <tbody>\n",
       "    <tr>\n",
       "      <th>0</th>\n",
       "      <td>save 70 life insurance spend life quote saving...</td>\n",
       "      <td>1</td>\n",
       "    </tr>\n",
       "    <tr>\n",
       "      <th>1</th>\n",
       "      <td>1 fight risk cancer http slim guaranteed lose ...</td>\n",
       "      <td>1</td>\n",
       "    </tr>\n",
       "    <tr>\n",
       "      <th>2</th>\n",
       "      <td>1 fight risk cancer http slim guaranteed lose ...</td>\n",
       "      <td>1</td>\n",
       "    </tr>\n",
       "    <tr>\n",
       "      <th>3</th>\n",
       "      <td>adult club offers free membership instant acce...</td>\n",
       "      <td>1</td>\n",
       "    </tr>\n",
       "    <tr>\n",
       "      <th>4</th>\n",
       "      <td>thought might like 1 slim guaranteed lose lbs ...</td>\n",
       "      <td>1</td>\n",
       "    </tr>\n",
       "  </tbody>\n",
       "</table>\n",
       "</div>"
      ],
      "text/plain": [
       "                                                Body  Label\n",
       "0  save 70 life insurance spend life quote saving...      1\n",
       "1  1 fight risk cancer http slim guaranteed lose ...      1\n",
       "2  1 fight risk cancer http slim guaranteed lose ...      1\n",
       "3  adult club offers free membership instant acce...      1\n",
       "4  thought might like 1 slim guaranteed lose lbs ...      1"
      ]
     },
     "execution_count": 8,
     "metadata": {},
     "output_type": "execute_result"
    }
   ],
   "source": [
    "df.head()"
   ]
  },
  {
   "cell_type": "code",
   "execution_count": 9,
   "id": "9058f737-d7ea-4009-8957-fb3a8f5b37f1",
   "metadata": {},
   "outputs": [],
   "source": [
    "# create a list of tuples (message, label)\n",
    "data = []\n",
    "for i, row in df.iterrows():\n",
    "    data.append((row['Body'], row['Label']))"
   ]
  },
  {
   "cell_type": "code",
   "execution_count": 10,
   "id": "3d39a14d-d815-4c37-bb44-7b21c9c74ac0",
   "metadata": {},
   "outputs": [],
   "source": [
    "# split the data into training and test sets\n",
    "training_data, test_data = train_test_split(data, test_size=0.2)"
   ]
  },
  {
   "cell_type": "code",
   "execution_count": 11,
   "id": "a2a9d0b6-aa7e-48d9-8316-e66e3c28c660",
   "metadata": {},
   "outputs": [],
   "source": [
    "# create a list of all words in the training data\n",
    "all_words = []\n",
    "for message, label in training_data:\n",
    "    words = nltk.word_tokenize(message)\n",
    "    for word in words:\n",
    "        all_words.append(word.lower())"
   ]
  },
  {
   "cell_type": "code",
   "execution_count": 12,
   "id": "f435343c-ab83-4633-a15d-cdabe3fb5e11",
   "metadata": {},
   "outputs": [],
   "source": [
    "# create a frequency distribution of all words\n",
    "all_words_freq = nltk.FreqDist(all_words)"
   ]
  },
  {
   "cell_type": "code",
   "execution_count": 13,
   "id": "1c052508-fa47-40a0-baa2-767d28cc3529",
   "metadata": {},
   "outputs": [],
   "source": [
    "# create a list of the most common words\n",
    "most_common_words = list(all_words_freq.keys())[:500]"
   ]
  },
  {
   "cell_type": "code",
   "execution_count": 14,
   "id": "0544e465-12da-405f-835d-2ddb13d444a0",
   "metadata": {},
   "outputs": [],
   "source": [
    "# create the training set\n",
    "training_set = [(message, label) for (message, label) in training_data]"
   ]
  },
  {
   "cell_type": "code",
   "execution_count": 15,
   "id": "c171c87d-6d6d-4314-a7b0-d6a3fbc80889",
   "metadata": {},
   "outputs": [],
   "source": [
    "# create the CountVectorizer\n",
    "vectorizer = CountVectorizer(vocabulary=most_common_words)"
   ]
  },
  {
   "cell_type": "code",
   "execution_count": 16,
   "id": "9985a722-d174-4118-8ce6-a179cfab1628",
   "metadata": {},
   "outputs": [],
   "source": [
    "# fit the vectorizer to the training data and create the feature matrix\n",
    "features = vectorizer.fit_transform([message for (message, label) in training_set])"
   ]
  },
  {
   "cell_type": "code",
   "execution_count": 17,
   "id": "5e4baa51-f1b0-4d9c-a728-864af866864e",
   "metadata": {},
   "outputs": [],
   "source": [
    "# create the labels\n",
    "labels = [label for (message, label) in training_set]"
   ]
  },
  {
   "cell_type": "code",
   "execution_count": 18,
   "id": "8cfb1f3a-8101-454b-b487-9430be83dfc3",
   "metadata": {},
   "outputs": [],
   "source": [
    "# create a dictionary of models\n",
    "models = {\n",
    "    'Multinomial Naive Bayes': MultinomialNB(),\n",
    "    'Logistic Regression': LogisticRegression(max_iter=500),\n",
    "    'Random Forest': RandomForestClassifier(n_estimators=50, random_state=0),\n",
    "    'Gradient Boosting': GradientBoostingClassifier(),\n",
    "    'SVC': SVC(),\n",
    "    'XGBoost': XGBClassifier(n_estimators=50,random_state=0),\n",
    "    'Cat Boost': CatBoostClassifier(verbose=0, random_state=0)\n",
    "}"
   ]
  },
  {
   "cell_type": "code",
   "execution_count": 19,
   "id": "6baa87ac-e0d6-4399-89b2-55456aec40bc",
   "metadata": {},
   "outputs": [],
   "source": [
    "# function that return the predictions made by the model\n",
    "def model_prediction(model, test_data):\n",
    "    # create the test set\n",
    "    test_set = [(message, label) for (message, label) in test_data]\n",
    "    # transform the test data using the trained vectorizer and create the test feature matrix\n",
    "    test_features = vectorizer.transform([message for (message, label) in test_set])\n",
    "    # create the test labels\n",
    "    test_labels = [label for (message, label) in test_set]\n",
    "    # return predictions\n",
    "    return model.predict(test_features), test_set"
   ]
  },
  {
   "cell_type": "code",
   "execution_count": 20,
   "id": "2ed0b7f2-3ad4-4c19-b3d3-210f279fb273",
   "metadata": {},
   "outputs": [],
   "source": [
    "# function that calculates some metrics\n",
    "def model_report(y, y_score):\n",
    "    print(f'Accuracy = {accuracy_score(y, y_score):.3f}')\n",
    "    print(f'Precision = {precision_score(y, y_score):.3f}')\n",
    "    print(f'Recall = {recall_score(y, y_score):.3f}')\n",
    "    print(f'F1 score = {f1_score(y, y_score):.3f}')"
   ]
  },
  {
   "cell_type": "code",
   "execution_count": 21,
   "id": "fa5041a8-aee5-485a-a43e-93d9dd07ddf4",
   "metadata": {},
   "outputs": [
    {
     "name": "stdout",
     "output_type": "stream",
     "text": [
      "Multinomial Naive Bayes\n",
      "-----------------------\n",
      "Accuracy = 0.888\n",
      "Precision = 0.718\n",
      "Recall = 0.891\n",
      "F1 score = 0.795\n",
      "\n",
      "Logistic Regression\n",
      "-------------------\n",
      "Accuracy = 0.930\n",
      "Precision = 0.932\n",
      "Recall = 0.850\n",
      "F1 score = 0.889\n",
      "\n",
      "Random Forest\n",
      "-------------\n",
      "Accuracy = 0.933\n",
      "Precision = 0.926\n",
      "Recall = 0.862\n",
      "F1 score = 0.893\n",
      "\n",
      "Gradient Boosting\n",
      "-----------------\n",
      "Accuracy = 0.902\n",
      "Precision = 0.704\n",
      "Recall = 0.959\n",
      "F1 score = 0.812\n",
      "\n",
      "SVC\n",
      "---\n",
      "Accuracy = 0.868\n",
      "Precision = 0.581\n",
      "Recall = 0.968\n",
      "F1 score = 0.726\n",
      "\n",
      "XGBoost\n",
      "-------\n",
      "Accuracy = 0.935\n",
      "Precision = 0.921\n",
      "Recall = 0.870\n",
      "F1 score = 0.895\n",
      "\n",
      "Cat Boost\n",
      "---------\n",
      "Accuracy = 0.935\n",
      "Precision = 0.918\n",
      "Recall = 0.875\n",
      "F1 score = 0.896\n",
      "\n"
     ]
    }
   ],
   "source": [
    "for x in models:\n",
    "    model = models.get(x)\n",
    "    print(x)\n",
    "    print('-'*len(x))\n",
    "    # fit the model to the training data\n",
    "    model.fit(features, labels)\n",
    "    predictions, test_set = model_prediction(model, test_data)\n",
    "    # create the test labels\n",
    "    test_labels = [label for (message, label) in test_set]\n",
    "    # evaluate the model on the test set\n",
    "    model_report(predictions, test_labels)\n",
    "    print()"
   ]
  },
  {
   "cell_type": "code",
   "execution_count": 22,
   "id": "d8228e82-427e-4c38-81ef-fb4102e445b5",
   "metadata": {},
   "outputs": [
    {
     "data": {
      "image/png": "[encoded data removed]",
      "text/plain": [
       "<Figure size 640x480 with 1 Axes>"
      ]
     },
     "metadata": {},
     "output_type": "display_data"
    }
   ],
   "source": [
    "# given the results above, let's see the confusion matrics for the XGBoost model\n",
    "model = XGBClassifier(n_estimators=50,random_state=0)\n",
    "model.fit(features, labels)\n",
    "\n",
    "# compute the confusion matrix\n",
    "mat = confusion_matrix(y_true=test_labels, y_pred=predictions)\n",
    "\n",
    "# plot confusion matrix\n",
    "sns.heatmap(mat.T, square=True, annot=True, fmt='d', cbar=False)\n",
    "plt.xlabel('true label')\n",
    "plt.ylabel('predicted label');"
   ]
  },
  {
   "cell_type": "code",
   "execution_count": null,
   "id": "12116429-3cf7-4be3-9df2-36b34ec26431",
   "metadata": {},
   "outputs": [],
   "source": []
  },
  {
   "cell_type": "code",
   "execution_count": null,
   "id": "fa135f63-8d27-4f24-8204-2c14c86aff1c",
   "metadata": {},
   "outputs": [],
   "source": []
  }
 ],
 "metadata": {
  "kernelspec": {
   "display_name": "Python 3 (ipykernel)",
   "language": "python",
   "name": "python3"
  },
  "language_info": {
   "codemirror_mode": {
    "name": "ipython",
    "version": 3
   },
   "file_extension": ".py",
   "mimetype": "text/x-python",
   "name": "python",
   "nbconvert_exporter": "python",
   "pygments_lexer": "ipython3",
   "version": "3.9.4"
  }
 },
 "nbformat": 4,
 "nbformat_minor": 5
}
